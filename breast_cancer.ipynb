{
  "nbformat": 4,
  "nbformat_minor": 0,
  "metadata": {
    "colab": {
      "name": "breast_cancer.ipynb",
      "provenance": [],
      "authorship_tag": "ABX9TyPIdiSocQXsHoUosVaZSAtf",
      "include_colab_link": true
    },
    "kernelspec": {
      "name": "python3",
      "display_name": "Python 3"
    },
    "language_info": {
      "name": "python"
    }
  },
  "cells": [
    {
      "cell_type": "markdown",
      "metadata": {
        "id": "view-in-github",
        "colab_type": "text"
      },
      "source": [
        "<a href=\"https://colab.research.google.com/github/naveenvarma600/BREAST-CANCER-PREDICTION/blob/main/breast_cancer.ipynb\" target=\"_parent\"><img src=\"https://colab.research.google.com/assets/colab-badge.svg\" alt=\"Open In Colab\"/></a>"
      ]
    },
    {
      "cell_type": "markdown",
      "metadata": {
        "id": "L-vEYaL1656L"
      },
      "source": [
        "IMPORTING NECESSARY LIBRARIES"
      ]
    },
    {
      "cell_type": "code",
      "metadata": {
        "id": "LP9gNmzK6qAs"
      },
      "source": [
        "import numpy as np\n",
        "import matplotlib.pyplot as plt\n",
        "import seaborn as sns\n",
        "import pandas as pd"
      ],
      "execution_count": 5,
      "outputs": []
    },
    {
      "cell_type": "code",
      "metadata": {
        "id": "Nzm0BTnC7OVw"
      },
      "source": [
        "#Ignoring warnings\n",
        "import warnings\n",
        "warnings.filterwarnings(\"ignore\")"
      ],
      "execution_count": 6,
      "outputs": []
    },
    {
      "cell_type": "markdown",
      "metadata": {
        "id": "5vvoh0bz7Y1y"
      },
      "source": [
        "LOADING DATA SET"
      ]
    },
    {
      "cell_type": "code",
      "metadata": {
        "id": "oM6KV_n37XRN"
      },
      "source": [
        "x=pd.read_csv(\"breast_cancer_data.csv\")"
      ],
      "execution_count": 7,
      "outputs": []
    },
    {
      "cell_type": "markdown",
      "metadata": {
        "id": "mgnfaYh_77Ob"
      },
      "source": [
        "UNDERSTANDING DATA SET"
      ]
    },
    {
      "cell_type": "code",
      "metadata": {
        "colab": {
          "base_uri": "https://localhost:8080/"
        },
        "id": "1JM0hH157j8V",
        "outputId": "71e0507c-dcf1-48b3-a1aa-e45ddb4e1b61"
      },
      "source": [
        "x.head()\n",
        "x.describe()\n",
        "x.corr()\n",
        "x[\"diagnosis\"].value_counts()"
      ],
      "execution_count": 8,
      "outputs": [
        {
          "output_type": "execute_result",
          "data": {
            "text/plain": [
              "B    357\n",
              "M    212\n",
              "Name: diagnosis, dtype: int64"
            ]
          },
          "metadata": {
            "tags": []
          },
          "execution_count": 8
        }
      ]
    },
    {
      "cell_type": "markdown",
      "metadata": {
        "id": "vmbk1lQW8HUC"
      },
      "source": [
        "CONVERTING INTO NUMERIC DATA\n"
      ]
    },
    {
      "cell_type": "code",
      "metadata": {
        "id": "EaAYzen77-pn"
      },
      "source": [
        "#Malignant is represented by 1 and Belign is represented by 0\n",
        "x1={\"M\":1,\"B\":0}\n",
        "x[\"diagnosis\"]=x[\"diagnosis\"].map(x1)"
      ],
      "execution_count": 9,
      "outputs": []
    },
    {
      "cell_type": "markdown",
      "metadata": {
        "id": "qCZT5LIAWi2I"
      },
      "source": [
        "Assigning predicting(x) and result(y) variables"
      ]
    },
    {
      "cell_type": "code",
      "metadata": {
        "id": "dWJmYSWPWg6q"
      },
      "source": [
        "y=x[\"diagnosis\"]\n",
        "x.drop([\"id\",\"diagnosis\",\"Unnamed: 32\"],axis=1,inplace=True)"
      ],
      "execution_count": 10,
      "outputs": []
    },
    {
      "cell_type": "code",
      "metadata": {
        "id": "bas4Zz6EXSTD"
      },
      "source": [
        "#splitting data into training and testing sets\n",
        "from sklearn.model_selection import train_test_split\n",
        "x_train,x_test,y_train,y_test=train_test_split(x,y,test_size=0.1,stratify=y,random_state=42)"
      ],
      "execution_count": 13,
      "outputs": []
    },
    {
      "cell_type": "markdown",
      "metadata": {
        "id": "rKugwPWqZ8z6"
      },
      "source": [
        "GRABBING STAGE NAME(malignant or belign) FROM INTEGER DATA"
      ]
    },
    {
      "cell_type": "code",
      "metadata": {
        "id": "bab7T8d_Y2_N"
      },
      "source": [
        "def get_stage(number):\n",
        "  if number==0:\n",
        "    return \"Belign\"\n",
        "  else:\n",
        "    return \"Malignant\""
      ],
      "execution_count": 23,
      "outputs": []
    },
    {
      "cell_type": "markdown",
      "metadata": {
        "id": "WUA70oGWX4Ni"
      },
      "source": [
        "LOGISTIC REGRESSION"
      ]
    },
    {
      "cell_type": "code",
      "metadata": {
        "colab": {
          "base_uri": "https://localhost:8080/",
          "height": 35
        },
        "id": "7_OWjVfiX30K",
        "outputId": "6c87a2e0-2662-48a4-f2f5-8c9464725770"
      },
      "source": [
        "from sklearn.linear_model import LogisticRegression\n",
        "reg_log=LogisticRegression()\n",
        "reg_log.fit(x_train,y_train)\n",
        "\n",
        "# predciting the testing data\n",
        "y_pred=reg_log.predict(x_test)\n",
        "\n",
        "from sklearn.metrics import accuracy_score\n",
        "reg_log_score=accuracy_score(y_test,y_pred)*100\n",
        "\n",
        "#predicting a random sample,whether it is malignant or belign\n",
        "my_pred=reg_log.predict(np.asarray((20.29,14.34,135.1,1297,0.1003,0.1328,0.198,0.1043,0.1809,0.05883,0.7572,0.7813,5.438,94.44,0.01149,0.02461,0.05688,0.01885,0.01756,0.005115,22.54,16.67,152.2,1575,0.1374,0.205,0.4,0.1625,0.2364,0.07678)).reshape(1,-1))\n",
        "get_stage(my_pred)"
      ],
      "execution_count": 55,
      "outputs": [
        {
          "output_type": "execute_result",
          "data": {
            "application/vnd.google.colaboratory.intrinsic+json": {
              "type": "string"
            },
            "text/plain": [
              "'Malignant'"
            ]
          },
          "metadata": {
            "tags": []
          },
          "execution_count": 55
        }
      ]
    },
    {
      "cell_type": "markdown",
      "metadata": {
        "id": "5X0KyHe9aZxy"
      },
      "source": [
        "K NEAREST NEIGHGBORS"
      ]
    },
    {
      "cell_type": "code",
      "metadata": {
        "colab": {
          "base_uri": "https://localhost:8080/",
          "height": 35
        },
        "id": "kog0kRGMaOY7",
        "outputId": "b523a80b-cebe-423e-86c6-9819b2ccaa9f"
      },
      "source": [
        "from sklearn.neighbors import KNeighborsClassifier\n",
        "clf_knn=KNeighborsClassifier()\n",
        "clf_knn.fit(x_train,y_train)\n",
        "\n",
        "# predciting the testing data\n",
        "y_pred=clf_knn.predict(x_test)\n",
        "\n",
        "from sklearn.metrics import accuracy_score\n",
        "clf_knn_score=accuracy_score(y_test,y_pred)*100\n",
        "\n",
        "#predicting a random sample,whether it is malignant or belign\n",
        "my_pred=clf_knn.predict(np.asarray((20.29,14.34,135.1,1297,0.1003,0.1328,0.198,0.1043,0.1809,0.05883,0.7572,0.7813,5.438,94.44,0.01149,0.02461,0.05688,0.01885,0.01756,0.005115,22.54,16.67,152.2,1575,0.1374,0.205,0.4,0.1625,0.2364,0.07678)).reshape(1,-1))\n",
        "get_stage(my_pred)\n"
      ],
      "execution_count": 56,
      "outputs": [
        {
          "output_type": "execute_result",
          "data": {
            "application/vnd.google.colaboratory.intrinsic+json": {
              "type": "string"
            },
            "text/plain": [
              "'Malignant'"
            ]
          },
          "metadata": {
            "tags": []
          },
          "execution_count": 56
        }
      ]
    },
    {
      "cell_type": "markdown",
      "metadata": {
        "id": "5cb6uRzzbXUb"
      },
      "source": [
        "NAIVE BAYES"
      ]
    },
    {
      "cell_type": "code",
      "metadata": {
        "colab": {
          "base_uri": "https://localhost:8080/",
          "height": 35
        },
        "id": "lny6DcSwa5tJ",
        "outputId": "76b229c1-f5be-4186-96ff-58d3c8361a2e"
      },
      "source": [
        "from sklearn.naive_bayes import GaussianNB\n",
        "clf_gnb=GaussianNB()\n",
        "clf_gnb.fit(x_train,y_train)\n",
        "\n",
        "# predciting the testing data\n",
        "y_pred=clf_gnb.predict(x_test)\n",
        "\n",
        "from sklearn.metrics import accuracy_score\n",
        "clf_gnb_score=accuracy_score(y_test,y_pred)*100\n",
        "\n",
        "#predicting a random sample,whether it is malignant or belign.\n",
        "my_pred=clf_gnb.predict(np.asarray((20.29,14.34,135.1,1297,0.1003,0.1328,0.198,0.1043,0.1809,0.05883,0.7572,0.7813,5.438,94.44,0.01149,0.02461,0.05688,0.01885,0.01756,0.005115,22.54,16.67,152.2,1575,0.1374,0.205,0.4,0.1625,0.2364,0.07678)).reshape(1,-1))\n",
        "get_stage(my_pred)"
      ],
      "execution_count": 57,
      "outputs": [
        {
          "output_type": "execute_result",
          "data": {
            "application/vnd.google.colaboratory.intrinsic+json": {
              "type": "string"
            },
            "text/plain": [
              "'Malignant'"
            ]
          },
          "metadata": {
            "tags": []
          },
          "execution_count": 57
        }
      ]
    },
    {
      "cell_type": "markdown",
      "metadata": {
        "id": "YGcajEKvca_q"
      },
      "source": [
        "VISUALIZATION OF MORE ACCURATE ALGORITHM"
      ]
    },
    {
      "cell_type": "code",
      "metadata": {
        "colab": {
          "base_uri": "https://localhost:8080/",
          "height": 320
        },
        "id": "IdZRbmNycOXt",
        "outputId": "90200826-4b99-4d6b-8bd4-4c214162c379"
      },
      "source": [
        "plt.figure(figsize=(7,5))\n",
        "models=[\"LOGISTIC REGRESSION\",\"K NEAREST NEIGHBORS\",\"NAIVE BAYES\"]\n",
        "numbers=[reg_log_score,clf_knn_score,clf_gnb_score]\n",
        "plt.bar(models,numbers)\n",
        "plt.show()"
      ],
      "execution_count": 58,
      "outputs": [
        {
          "output_type": "display_data",
          "data": {
            "image/png": "[encoded data removed]",
            "text/plain": [
              "<Figure size 504x360 with 1 Axes>"
            ]
          },
          "metadata": {
            "tags": [],
            "needs_background": "light"
          }
        }
      ]
    },
    {
      "cell_type": "markdown",
      "metadata": {
        "id": "q6EGTsctg6nx"
      },
      "source": [
        "From the above bar graph,we can clearly say that logistic regression best suits the problem."
      ]
    }
  ]
}