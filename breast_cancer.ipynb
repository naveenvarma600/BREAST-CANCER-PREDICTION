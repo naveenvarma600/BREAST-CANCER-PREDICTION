{
  "nbformat": 4,
  "nbformat_minor": 0,
  "metadata": {
    "colab": {
      "name": "breast_cancer.ipynb",
      "provenance": [],
      "authorship_tag": "ABX9TyPATA9nHGM2v4OQXUJRetB8",
      "include_colab_link": true
    },
    "kernelspec": {
      "name": "python3",
      "display_name": "Python 3"
    },
    "language_info": {
      "name": "python"
    }
  },
  "cells": [
    {
      "cell_type": "markdown",
      "metadata": {
        "id": "view-in-github",
        "colab_type": "text"
      },
      "source": [
        "<a href=\"https://colab.research.google.com/github/naveenvarma600/BREAST-CANCER-PREDICTION/blob/main/breast_cancer.ipynb\" target=\"_parent\"><img src=\"https://colab.research.google.com/assets/colab-badge.svg\" alt=\"Open In Colab\"/></a>"
      ]
    },
    {
      "cell_type": "markdown",
      "metadata": {
        "id": "L-vEYaL1656L"
      },
      "source": [
        "IMPORTING NECESSARY LIBRARIES"
      ]
    },
    {
      "cell_type": "code",
      "metadata": {
        "id": "LP9gNmzK6qAs"
      },
      "source": [
        "import numpy as np\n",
        "import matplotlib.pyplot as plt\n",
        "import seaborn as sns\n",
        "import pandas as pd"
      ],
      "execution_count": 55,
      "outputs": []
    },
    {
      "cell_type": "code",
      "metadata": {
        "id": "Nzm0BTnC7OVw"
      },
      "source": [
        "#Ignoring warnings\n",
        "import warnings\n",
        "warnings.filterwarnings(\"ignore\")"
      ],
      "execution_count": 56,
      "outputs": []
    },
    {
      "cell_type": "markdown",
      "metadata": {
        "id": "5vvoh0bz7Y1y"
      },
      "source": [
        "LOADING DATA SET"
      ]
    },
    {
      "cell_type": "code",
      "metadata": {
        "id": "oM6KV_n37XRN"
      },
      "source": [
        "x=pd.read_csv(\"breast_cancer_data.csv\")"
      ],
      "execution_count": 57,
      "outputs": []
    },
    {
      "cell_type": "markdown",
      "metadata": {
        "id": "mgnfaYh_77Ob"
      },
      "source": [
        "UNDERSTANDING DATA SET"
      ]
    },
    {
      "cell_type": "code",
      "metadata": {
        "colab": {
          "base_uri": "https://localhost:8080/"
        },
        "id": "1JM0hH157j8V",
        "outputId": "5734fb47-3fc1-4474-ee8a-a11c46341f93"
      },
      "source": [
        "x.head()\n",
        "x.describe()\n",
        "x.corr()\n",
        "x[\"diagnosis\"].value_counts()"
      ],
      "execution_count": 58,
      "outputs": [
        {
          "output_type": "execute_result",
          "data": {
            "text/plain": [
              "B    357\n",
              "M    212\n",
              "Name: diagnosis, dtype: int64"
            ]
          },
          "metadata": {
            "tags": []
          },
          "execution_count": 58
        }
      ]
    },
    {
      "cell_type": "markdown",
      "metadata": {
        "id": "vmbk1lQW8HUC"
      },
      "source": [
        "CONVERTING INTO NUMERIC DATA\n"
      ]
    },
    {
      "cell_type": "code",
      "metadata": {
        "id": "EaAYzen77-pn"
      },
      "source": [
        "#Malignant is represented by 1 and Belign is represented by 0\n",
        "x1={\"M\":1,\"B\":0}\n",
        "x[\"diagnosis\"]=x[\"diagnosis\"].map(x1)"
      ],
      "execution_count": 59,
      "outputs": []
    },
    {
      "cell_type": "markdown",
      "metadata": {
        "id": "qCZT5LIAWi2I"
      },
      "source": [
        "Assigning predicting(x) and result(y) variables"
      ]
    },
    {
      "cell_type": "code",
      "metadata": {
        "id": "dWJmYSWPWg6q"
      },
      "source": [
        "y=x[\"diagnosis\"]\n",
        "x.drop([\"id\",\"diagnosis\",\"Unnamed: 32\"],axis=1,inplace=True)"
      ],
      "execution_count": 60,
      "outputs": []
    },
    {
      "cell_type": "code",
      "metadata": {
        "colab": {
          "base_uri": "https://localhost:8080/"
        },
        "id": "BM6NNIQ4pVqC",
        "outputId": "35edd419-7619-4b81-f726-44890f2d1c81"
      },
      "source": [
        "x.columns"
      ],
      "execution_count": 61,
      "outputs": [
        {
          "output_type": "execute_result",
          "data": {
            "text/plain": [
              "Index(['radius_mean', 'texture_mean', 'perimeter_mean', 'area_mean',\n",
              "       'smoothness_mean', 'compactness_mean', 'concavity_mean',\n",
              "       'concave points_mean', 'symmetry_mean', 'fractal_dimension_mean',\n",
              "       'radius_se', 'texture_se', 'perimeter_se', 'area_se', 'smoothness_se',\n",
              "       'compactness_se', 'concavity_se', 'concave points_se', 'symmetry_se',\n",
              "       'fractal_dimension_se', 'radius_worst', 'texture_worst',\n",
              "       'perimeter_worst', 'area_worst', 'smoothness_worst',\n",
              "       'compactness_worst', 'concavity_worst', 'concave points_worst',\n",
              "       'symmetry_worst', 'fractal_dimension_worst'],\n",
              "      dtype='object')"
            ]
          },
          "metadata": {
            "tags": []
          },
          "execution_count": 61
        }
      ]
    },
    {
      "cell_type": "code",
      "metadata": {
        "id": "bas4Zz6EXSTD"
      },
      "source": [
        "#splitting data into training and testing sets\n",
        "from sklearn.model_selection import train_test_split\n",
        "x_train,x_test,y_train,y_test=train_test_split(x,y,test_size=0.1,stratify=y,random_state=42)"
      ],
      "execution_count": 62,
      "outputs": []
    },
    {
      "cell_type": "markdown",
      "metadata": {
        "id": "rKugwPWqZ8z6"
      },
      "source": [
        "GRABBING STAGE NAME(malignant or belign) FROM INTEGER DATA"
      ]
    },
    {
      "cell_type": "code",
      "metadata": {
        "id": "bab7T8d_Y2_N"
      },
      "source": [
        "def get_stage(number):\n",
        "  if number==0:\n",
        "    return \"Belign\"\n",
        "  else:\n",
        "    return \"Malignant\""
      ],
      "execution_count": 63,
      "outputs": []
    },
    {
      "cell_type": "markdown",
      "metadata": {
        "id": "WUA70oGWX4Ni"
      },
      "source": [
        "LOGISTIC REGRESSION"
      ]
    },
    {
      "cell_type": "code",
      "metadata": {
        "colab": {
          "base_uri": "https://localhost:8080/",
          "height": 35
        },
        "id": "7_OWjVfiX30K",
        "outputId": "9759eefb-083c-4116-b93f-c2ca3c6b4fe4"
      },
      "source": [
        "from sklearn.linear_model import LogisticRegression\n",
        "reg_log=LogisticRegression()\n",
        "reg_log.fit(x_train,y_train)\n",
        "\n",
        "# predciting the testing data\n",
        "y_pred=reg_log.predict(x_test)\n",
        "\n",
        "from sklearn.metrics import accuracy_score\n",
        "reg_log_score=accuracy_score(y_test,y_pred)*100\n",
        "\n",
        "#predicting a random sample,whether it is malignant or belign\n",
        "my_pred=reg_log.predict(np.asarray((20.29,14.34,135.1,1297,0.1003,0.1328,0.198,0.1043,0.1809,0.05883,0.7572,0.7813,5.438,94.44,0.01149,0.02461,0.05688,0.01885,0.01756,0.005115,22.54,16.67,152.2,1575,0.1374,0.205,0.4,0.1625,0.2364,0.07678)).reshape(1,-1))\n",
        "get_stage(my_pred)"
      ],
      "execution_count": 64,
      "outputs": [
        {
          "output_type": "execute_result",
          "data": {
            "application/vnd.google.colaboratory.intrinsic+json": {
              "type": "string"
            },
            "text/plain": [
              "'Malignant'"
            ]
          },
          "metadata": {
            "tags": []
          },
          "execution_count": 64
        }
      ]
    },
    {
      "cell_type": "markdown",
      "metadata": {
        "id": "5X0KyHe9aZxy"
      },
      "source": [
        "K NEAREST NEIGHGBORS"
      ]
    },
    {
      "cell_type": "code",
      "metadata": {
        "colab": {
          "base_uri": "https://localhost:8080/",
          "height": 35
        },
        "id": "kog0kRGMaOY7",
        "outputId": "a04846bf-7a2f-4ce6-fd64-56570964a367"
      },
      "source": [
        "from sklearn.neighbors import KNeighborsClassifier\n",
        "clf_knn=KNeighborsClassifier()\n",
        "clf_knn.fit(x_train,y_train)\n",
        "\n",
        "# predciting the testing data\n",
        "y_pred=clf_knn.predict(x_test)\n",
        "\n",
        "from sklearn.metrics import accuracy_score\n",
        "clf_knn_score=accuracy_score(y_test,y_pred)*100\n",
        "\n",
        "#predicting a random sample,whether it is malignant or belign\n",
        "my_pred=clf_knn.predict(np.asarray((20.29,14.34,135.1,1297,0.1003,0.1328,0.198,0.1043,0.1809,0.05883,0.7572,0.7813,5.438,94.44,0.01149,0.02461,0.05688,0.01885,0.01756,0.005115,22.54,16.67,152.2,1575,0.1374,0.205,0.4,0.1625,0.2364,0.07678)).reshape(1,-1))\n",
        "get_stage(my_pred)\n"
      ],
      "execution_count": 65,
      "outputs": [
        {
          "output_type": "execute_result",
          "data": {
            "application/vnd.google.colaboratory.intrinsic+json": {
              "type": "string"
            },
            "text/plain": [
              "'Malignant'"
            ]
          },
          "metadata": {
            "tags": []
          },
          "execution_count": 65
        }
      ]
    },
    {
      "cell_type": "markdown",
      "metadata": {
        "id": "5cb6uRzzbXUb"
      },
      "source": [
        "NAIVE BAYES"
      ]
    },
    {
      "cell_type": "code",
      "metadata": {
        "colab": {
          "base_uri": "https://localhost:8080/",
          "height": 35
        },
        "id": "lny6DcSwa5tJ",
        "outputId": "b0756fbe-353a-4704-96c1-7d76e4b4ca11"
      },
      "source": [
        "from sklearn.naive_bayes import GaussianNB\n",
        "clf_gnb=GaussianNB()\n",
        "clf_gnb.fit(x_train,y_train)\n",
        "\n",
        "# predciting the testing data\n",
        "y_pred=clf_gnb.predict(x_test)\n",
        "\n",
        "from sklearn.metrics import accuracy_score\n",
        "clf_gnb_score=accuracy_score(y_test,y_pred)*100\n",
        "\n",
        "#predicting a random sample,whether it is malignant or belign.\n",
        "my_pred=clf_gnb.predict(np.asarray((20.29,14.34,135.1,1297,0.1003,0.1328,0.198,0.1043,0.1809,0.05883,0.7572,0.7813,5.438,94.44,0.01149,0.02461,0.05688,0.01885,0.01756,0.005115,22.54,16.67,152.2,1575,0.1374,0.205,0.4,0.1625,0.2364,0.07678)).reshape(1,-1))\n",
        "get_stage(my_pred)"
      ],
      "execution_count": 66,
      "outputs": [
        {
          "output_type": "execute_result",
          "data": {
            "application/vnd.google.colaboratory.intrinsic+json": {
              "type": "string"
            },
            "text/plain": [
              "'Malignant'"
            ]
          },
          "metadata": {
            "tags": []
          },
          "execution_count": 66
        }
      ]
    },
    {
      "cell_type": "markdown",
      "metadata": {
        "id": "YGcajEKvca_q"
      },
      "source": [
        "VISUALIZATION OF MORE ACCURATE ALGORITHM"
      ]
    },
    {
      "cell_type": "code",
      "metadata": {
        "colab": {
          "base_uri": "https://localhost:8080/",
          "height": 320
        },
        "id": "IdZRbmNycOXt",
        "outputId": "83e0d4db-47bb-4024-ec00-1cdafb553e4e"
      },
      "source": [
        "plt.figure(figsize=(7,5))\n",
        "models=[\"LOGISTIC REGRESSION\",\"K NEAREST NEIGHBORS\",\"NAIVE BAYES\"]\n",
        "numbers=[reg_log_score,clf_knn_score,clf_gnb_score]\n",
        "plt.bar(models,numbers)\n",
        "plt.show()"
      ],
      "execution_count": 67,
      "outputs": [
        {
          "output_type": "display_data",
          "data": {
            "image/png": "[encoded data removed]",
            "text/plain": [
              "<Figure size 504x360 with 1 Axes>"
            ]
          },
          "metadata": {
            "tags": [],
            "needs_background": "light"
          }
        }
      ]
    },
    {
      "cell_type": "markdown",
      "metadata": {
        "id": "q6EGTsctg6nx"
      },
      "source": [
        "From the above bar graph,we can clearly say that logistic regression best suits the problem."
      ]
    },
    {
      "cell_type": "markdown",
      "metadata": {
        "id": "4LTmGuKsFEqX"
      },
      "source": [
        "H2O AUTOML"
      ]
    },
    {
      "cell_type": "code",
      "metadata": {
        "colab": {
          "base_uri": "https://localhost:8080/"
        },
        "id": "PxVJAE1hn9Lw",
        "outputId": "03284e56-2e80-41ca-d1b3-bfaf88746528"
      },
      "source": [
        "!pip install h2o"
      ],
      "execution_count": 68,
      "outputs": [
        {
          "output_type": "stream",
          "text": [
            "Requirement already satisfied: h2o in /usr/local/lib/python3.7/dist-packages (3.32.1.1)\n",
            "Requirement already satisfied: requests in /usr/local/lib/python3.7/dist-packages (from h2o) (2.23.0)\n",
            "Requirement already satisfied: colorama>=0.3.8 in /usr/local/lib/python3.7/dist-packages (from h2o) (0.4.4)\n",
            "Requirement already satisfied: future in /usr/local/lib/python3.7/dist-packages (from h2o) (0.16.0)\n",
            "Requirement already satisfied: tabulate in /usr/local/lib/python3.7/dist-packages (from h2o) (0.8.9)\n",
            "Requirement already satisfied: chardet<4,>=3.0.2 in /usr/local/lib/python3.7/dist-packages (from requests->h2o) (3.0.4)\n",
            "Requirement already satisfied: certifi>=2017.4.17 in /usr/local/lib/python3.7/dist-packages (from requests->h2o) (2020.12.5)\n",
            "Requirement already satisfied: idna<3,>=2.5 in /usr/local/lib/python3.7/dist-packages (from requests->h2o) (2.10)\n",
            "Requirement already satisfied: urllib3!=1.25.0,!=1.25.1,<1.26,>=1.21.1 in /usr/local/lib/python3.7/dist-packages (from requests->h2o) (1.24.3)\n"
          ],
          "name": "stdout"
        }
      ]
    },
    {
      "cell_type": "code",
      "metadata": {
        "id": "CXv45ZllnyKQ"
      },
      "source": [
        "import h2o\n",
        "from h2o.automl import H2OAutoML\n"
      ],
      "execution_count": 69,
      "outputs": []
    },
    {
      "cell_type": "code",
      "metadata": {
        "colab": {
          "base_uri": "https://localhost:8080/",
          "height": 372
        },
        "id": "7q8-3pn-n5g5",
        "outputId": "897284cc-3606-4be6-c1e2-fcdf9b080d5d"
      },
      "source": [
        "h2o.init()"
      ],
      "execution_count": 70,
      "outputs": [
        {
          "output_type": "stream",
          "text": [
            "Checking whether there is an H2O instance running at http://localhost:54321 . connected.\n"
          ],
          "name": "stdout"
        },
        {
          "output_type": "display_data",
          "data": {
            "text/html": [
              "<div style=\"overflow:auto\"><table style=\"width:50%\"><tr><td>H2O_cluster_uptime:</td>\n",
              "<td>1 hour 56 mins</td></tr>\n",
              "<tr><td>H2O_cluster_timezone:</td>\n",
              "<td>Etc/UTC</td></tr>\n",
              "<tr><td>H2O_data_parsing_timezone:</td>\n",
              "<td>UTC</td></tr>\n",
              "<tr><td>H2O_cluster_version:</td>\n",
              "<td>3.32.1.1</td></tr>\n",
              "<tr><td>H2O_cluster_version_age:</td>\n",
              "<td>19 days </td></tr>\n",
              "<tr><td>H2O_cluster_name:</td>\n",
              "<td>H2O_from_python_unknownUser_6lu84h</td></tr>\n",
              "<tr><td>H2O_cluster_total_nodes:</td>\n",
              "<td>1</td></tr>\n",
              "<tr><td>H2O_cluster_free_memory:</td>\n",
              "<td>3.167 Gb</td></tr>\n",
              "<tr><td>H2O_cluster_total_cores:</td>\n",
              "<td>2</td></tr>\n",
              "<tr><td>H2O_cluster_allowed_cores:</td>\n",
              "<td>2</td></tr>\n",
              "<tr><td>H2O_cluster_status:</td>\n",
              "<td>locked, healthy</td></tr>\n",
              "<tr><td>H2O_connection_url:</td>\n",
              "<td>http://localhost:54321</td></tr>\n",
              "<tr><td>H2O_connection_proxy:</td>\n",
              "<td>{\"http\": null, \"https\": null}</td></tr>\n",
              "<tr><td>H2O_internal_security:</td>\n",
              "<td>False</td></tr>\n",
              "<tr><td>H2O_API_Extensions:</td>\n",
              "<td>Amazon S3, XGBoost, Algos, AutoML, Core V3, TargetEncoder, Core V4</td></tr>\n",
              "<tr><td>Python_version:</td>\n",
              "<td>3.7.10 final</td></tr></table></div>"
            ],
            "text/plain": [
              "--------------------------  ------------------------------------------------------------------\n",
              "H2O_cluster_uptime:         1 hour 56 mins\n",
              "H2O_cluster_timezone:       Etc/UTC\n",
              "H2O_data_parsing_timezone:  UTC\n",
              "H2O_cluster_version:        3.32.1.1\n",
              "H2O_cluster_version_age:    19 days\n",
              "H2O_cluster_name:           H2O_from_python_unknownUser_6lu84h\n",
              "H2O_cluster_total_nodes:    1\n",
              "H2O_cluster_free_memory:    3.167 Gb\n",
              "H2O_cluster_total_cores:    2\n",
              "H2O_cluster_allowed_cores:  2\n",
              "H2O_cluster_status:         locked, healthy\n",
              "H2O_connection_url:         http://localhost:54321\n",
              "H2O_connection_proxy:       {\"http\": null, \"https\": null}\n",
              "H2O_internal_security:      False\n",
              "H2O_API_Extensions:         Amazon S3, XGBoost, Algos, AutoML, Core V3, TargetEncoder, Core V4\n",
              "Python_version:             3.7.10 final\n",
              "--------------------------  ------------------------------------------------------------------"
            ]
          },
          "metadata": {
            "tags": []
          }
        }
      ]
    },
    {
      "cell_type": "code",
      "metadata": {
        "colab": {
          "base_uri": "https://localhost:8080/"
        },
        "id": "cKU6mLsMoNFk",
        "outputId": "6668c433-368f-4b63-b283-f5da6c391d49"
      },
      "source": [
        "x=h2o.import_file(\"breast_cancer_data.csv\")"
      ],
      "execution_count": 71,
      "outputs": [
        {
          "output_type": "stream",
          "text": [
            "Parse progress: |█████████████████████████████████████████████████████████| 100%\n"
          ],
          "name": "stdout"
        }
      ]
    },
    {
      "cell_type": "code",
      "metadata": {
        "colab": {
          "base_uri": "https://localhost:8080/",
          "height": 482
        },
        "id": "QLvDPr1HolD8",
        "outputId": "78a71e5c-5f92-442e-cf5b-d70611ee04fd"
      },
      "source": [
        "x.describe()"
      ],
      "execution_count": 72,
      "outputs": [
        {
          "output_type": "stream",
          "text": [
            "Rows:569\n",
            "Cols:33\n",
            "\n",
            "\n"
          ],
          "name": "stdout"
        },
        {
          "output_type": "display_data",
          "data": {
            "text/html": [
              "<table>\n",
              "<thead>\n",
              "<tr><th>       </th><th>id                </th><th>diagnosis  </th><th>radius_mean       </th><th>texture_mean      </th><th>perimeter_mean    </th><th>area_mean        </th><th>smoothness_mean     </th><th>compactness_mean    </th><th>concavity_mean     </th><th>concave points_mean  </th><th>symmetry_mean      </th><th>fractal_dimension_mean  </th><th>radius_se         </th><th>texture_se        </th><th>perimeter_se      </th><th>area_se         </th><th>smoothness_se       </th><th>compactness_se      </th><th>concavity_se        </th><th>concave points_se   </th><th>symmetry_se         </th><th>fractal_dimension_se  </th><th>radius_worst     </th><th>texture_worst    </th><th>perimeter_worst   </th><th>area_worst       </th><th>smoothness_worst    </th><th>compactness_worst  </th><th>concavity_worst    </th><th>concave points_worst  </th><th>symmetry_worst     </th><th>fractal_dimension_worst  </th><th>C33  </th></tr>\n",
              "</thead>\n",
              "<tbody>\n",
              "<tr><td>type   </td><td>int               </td><td>enum       </td><td>real              </td><td>real              </td><td>real              </td><td>real             </td><td>real                </td><td>real                </td><td>real               </td><td>real                 </td><td>real               </td><td>real                    </td><td>real              </td><td>real              </td><td>real              </td><td>real            </td><td>real                </td><td>real                </td><td>real                </td><td>real                </td><td>real                </td><td>real                  </td><td>real             </td><td>real             </td><td>real              </td><td>real             </td><td>real                </td><td>real               </td><td>real               </td><td>real                  </td><td>real               </td><td>real                     </td><td>int  </td></tr>\n",
              "<tr><td>mins   </td><td>8670.0            </td><td>           </td><td>6.981             </td><td>9.71              </td><td>43.79             </td><td>143.5            </td><td>0.05263             </td><td>0.01938             </td><td>0.0                </td><td>0.0                  </td><td>0.106              </td><td>0.04996                 </td><td>0.1115            </td><td>0.3602            </td><td>0.757             </td><td>6.802           </td><td>0.001713            </td><td>0.002252            </td><td>0.0                 </td><td>0.0                 </td><td>0.007882            </td><td>0.0008948             </td><td>7.93             </td><td>12.02            </td><td>50.41             </td><td>185.2            </td><td>0.07117             </td><td>0.02729            </td><td>0.0                </td><td>0.0                   </td><td>0.1565             </td><td>0.05504                  </td><td>NaN  </td></tr>\n",
              "<tr><td>mean   </td><td>30371831.432337433</td><td>           </td><td>14.127291739894554</td><td>19.289648506151142</td><td>91.96903339191564 </td><td>654.8891036906855</td><td>0.0963602811950791  </td><td>0.1043409841827768  </td><td>0.08879931581722321</td><td>0.04891914586994728  </td><td>0.18116186291739894</td><td>0.06279760984182778     </td><td>0.4051720562390158</td><td>1.2168534270650264</td><td>2.8660592267135323</td><td>40.337079086116 </td><td>0.007040978910369069</td><td>0.025478138840070302</td><td>0.03189371634446398 </td><td>0.011796137082601053</td><td>0.020542298769771525</td><td>0.0037949038664323374 </td><td>16.26918980667838</td><td>25.67722319859402</td><td>107.26121265377857</td><td>880.5831282952549</td><td>0.13236859402460457 </td><td>0.2542650439367311 </td><td>0.27218848330404216</td><td>0.11460622319859404   </td><td>0.2900755711775044 </td><td>0.0839458172231986       </td><td>0.0  </td></tr>\n",
              "<tr><td>maxs   </td><td>911320502.0       </td><td>           </td><td>28.11             </td><td>39.28             </td><td>188.5             </td><td>2501.0           </td><td>0.1634              </td><td>0.3454              </td><td>0.4268             </td><td>0.2012               </td><td>0.304              </td><td>0.09744                 </td><td>2.873             </td><td>4.885             </td><td>21.98             </td><td>542.2           </td><td>0.03113             </td><td>0.1354              </td><td>0.396               </td><td>0.05279             </td><td>0.07895             </td><td>0.02984               </td><td>36.04            </td><td>49.54            </td><td>251.2             </td><td>4254.0           </td><td>0.2226              </td><td>1.058              </td><td>1.252              </td><td>0.291                 </td><td>0.6638             </td><td>0.2075                   </td><td>NaN  </td></tr>\n",
              "<tr><td>sigma  </td><td>125020585.61222367</td><td>           </td><td>3.524048826212077 </td><td>4.301035768166949 </td><td>24.298981038754906</td><td>351.9141291816529</td><td>0.014064128137673621</td><td>0.052812757932512194</td><td>0.07971980870789348</td><td>0.038802844859153605 </td><td>0.02741428133603572</td><td>0.007060362795084459    </td><td>0.2773127329861039</td><td>0.5516483926172023</td><td>2.0218545540421076</td><td>45.4910055161318</td><td>0.003002517943839066</td><td>0.017908179325677388</td><td>0.030186060322988408</td><td>0.006170285174046869</td><td>0.008266371528798399</td><td>0.0026460709670891955 </td><td>4.833241580469323</td><td>6.146257623038319</td><td>33.602542269036356</td><td>569.3569926699489</td><td>0.022832429404835465</td><td>0.157336488913742  </td><td>0.2086242806081323 </td><td>0.06573234119594205   </td><td>0.06186746753751869</td><td>0.018061267348893986     </td><td>-0.0 </td></tr>\n",
              "<tr><td>zeros  </td><td>0                 </td><td>           </td><td>0                 </td><td>0                 </td><td>0                 </td><td>0                </td><td>0                   </td><td>0                   </td><td>13                 </td><td>13                   </td><td>0                  </td><td>0                       </td><td>0                 </td><td>0                 </td><td>0                 </td><td>0               </td><td>0                   </td><td>0                   </td><td>13                  </td><td>13                  </td><td>0                   </td><td>0                     </td><td>0                </td><td>0                </td><td>0                 </td><td>0                </td><td>0                   </td><td>0                  </td><td>13                 </td><td>13                    </td><td>0                  </td><td>0                        </td><td>0    </td></tr>\n",
              "<tr><td>missing</td><td>0                 </td><td>0          </td><td>0                 </td><td>0                 </td><td>0                 </td><td>0                </td><td>0                   </td><td>0                   </td><td>0                  </td><td>0                    </td><td>0                  </td><td>0                       </td><td>0                 </td><td>0                 </td><td>0                 </td><td>0               </td><td>0                   </td><td>0                   </td><td>0                   </td><td>0                   </td><td>0                   </td><td>0                     </td><td>0                </td><td>0                </td><td>0                 </td><td>0                </td><td>0                   </td><td>0                  </td><td>0                  </td><td>0                     </td><td>0                  </td><td>0                        </td><td>569  </td></tr>\n",
              "<tr><td>0      </td><td>842302.0          </td><td>M          </td><td>17.99             </td><td>10.38             </td><td>122.8             </td><td>1001.0           </td><td>0.1184              </td><td>0.2776              </td><td>0.3001             </td><td>0.1471               </td><td>0.2419             </td><td>0.07871                 </td><td>1.095             </td><td>0.9053            </td><td>8.589             </td><td>153.4           </td><td>0.006399            </td><td>0.04904             </td><td>0.05373             </td><td>0.01587             </td><td>0.03003             </td><td>0.006193              </td><td>25.38            </td><td>17.33            </td><td>184.6             </td><td>2019.0           </td><td>0.1622              </td><td>0.6656             </td><td>0.7119             </td><td>0.2654                </td><td>0.4601             </td><td>0.1189                   </td><td>nan  </td></tr>\n",
              "<tr><td>1      </td><td>842517.0          </td><td>M          </td><td>20.57             </td><td>17.77             </td><td>132.9             </td><td>1326.0           </td><td>0.08474             </td><td>0.07864             </td><td>0.0869             </td><td>0.07017              </td><td>0.1812             </td><td>0.05667                 </td><td>0.5435            </td><td>0.7339            </td><td>3.398             </td><td>74.08           </td><td>0.005225            </td><td>0.01308             </td><td>0.0186              </td><td>0.0134              </td><td>0.01389             </td><td>0.003532              </td><td>24.99            </td><td>23.41            </td><td>158.8             </td><td>1956.0           </td><td>0.1238              </td><td>0.1866             </td><td>0.2416             </td><td>0.186                 </td><td>0.275              </td><td>0.08902                  </td><td>nan  </td></tr>\n",
              "<tr><td>2      </td><td>84300903.0        </td><td>M          </td><td>19.69             </td><td>21.25             </td><td>130.0             </td><td>1203.0           </td><td>0.1096              </td><td>0.1599              </td><td>0.1974             </td><td>0.1279               </td><td>0.2069             </td><td>0.05999                 </td><td>0.7456            </td><td>0.7869            </td><td>4.585             </td><td>94.03           </td><td>0.00615             </td><td>0.04006             </td><td>0.03832             </td><td>0.02058             </td><td>0.0225              </td><td>0.004571              </td><td>23.57            </td><td>25.53            </td><td>152.5             </td><td>1709.0           </td><td>0.1444              </td><td>0.4245             </td><td>0.4504             </td><td>0.243                 </td><td>0.3613             </td><td>0.08758                  </td><td>nan  </td></tr>\n",
              "<tr><td>3      </td><td>84348301.0        </td><td>M          </td><td>11.42             </td><td>20.38             </td><td>77.58             </td><td>386.1            </td><td>0.1425              </td><td>0.2839              </td><td>0.2414             </td><td>0.1052               </td><td>0.2597             </td><td>0.09744                 </td><td>0.4956            </td><td>1.156             </td><td>3.445             </td><td>27.23           </td><td>0.00911             </td><td>0.07458             </td><td>0.05661             </td><td>0.01867             </td><td>0.05963             </td><td>0.009208              </td><td>14.91            </td><td>26.5             </td><td>98.87             </td><td>567.7            </td><td>0.2098              </td><td>0.8663             </td><td>0.6869             </td><td>0.2575                </td><td>0.6638             </td><td>0.173                    </td><td>nan  </td></tr>\n",
              "<tr><td>4      </td><td>84358402.0        </td><td>M          </td><td>20.29             </td><td>14.34             </td><td>135.1             </td><td>1297.0           </td><td>0.1003              </td><td>0.1328              </td><td>0.198              </td><td>0.1043               </td><td>0.1809             </td><td>0.05883                 </td><td>0.7572            </td><td>0.7813            </td><td>5.438             </td><td>94.44           </td><td>0.01149             </td><td>0.02461             </td><td>0.05688             </td><td>0.01885             </td><td>0.01756             </td><td>0.005115              </td><td>22.54            </td><td>16.67            </td><td>152.2             </td><td>1575.0           </td><td>0.1374              </td><td>0.205              </td><td>0.4                </td><td>0.1625                </td><td>0.2364             </td><td>0.07678                  </td><td>nan  </td></tr>\n",
              "<tr><td>5      </td><td>843786.0          </td><td>M          </td><td>12.45             </td><td>15.7              </td><td>82.57             </td><td>477.1            </td><td>0.1278              </td><td>0.17                </td><td>0.1578             </td><td>0.08089              </td><td>0.2087             </td><td>0.07613                 </td><td>0.3345            </td><td>0.8902            </td><td>2.217             </td><td>27.19           </td><td>0.00751             </td><td>0.03345             </td><td>0.03672             </td><td>0.01137             </td><td>0.02165             </td><td>0.005082              </td><td>15.47            </td><td>23.75            </td><td>103.4             </td><td>741.6            </td><td>0.1791              </td><td>0.5249             </td><td>0.5355             </td><td>0.1741                </td><td>0.3985             </td><td>0.1244                   </td><td>nan  </td></tr>\n",
              "<tr><td>6      </td><td>844359.0          </td><td>M          </td><td>18.25             </td><td>19.98             </td><td>119.6             </td><td>1040.0           </td><td>0.09463             </td><td>0.109               </td><td>0.1127             </td><td>0.074                </td><td>0.1794             </td><td>0.05742                 </td><td>0.4467            </td><td>0.7732            </td><td>3.18              </td><td>53.91           </td><td>0.004314            </td><td>0.01382             </td><td>0.02254             </td><td>0.01039             </td><td>0.01369             </td><td>0.002179              </td><td>22.88            </td><td>27.66            </td><td>153.2             </td><td>1606.0           </td><td>0.1442              </td><td>0.2576             </td><td>0.3784             </td><td>0.1932                </td><td>0.3063             </td><td>0.08368                  </td><td>nan  </td></tr>\n",
              "<tr><td>7      </td><td>84458202.0        </td><td>M          </td><td>13.71             </td><td>20.83             </td><td>90.2              </td><td>577.9            </td><td>0.1189              </td><td>0.1645              </td><td>0.09366            </td><td>0.05985              </td><td>0.2196             </td><td>0.07451                 </td><td>0.5835            </td><td>1.377             </td><td>3.856             </td><td>50.96           </td><td>0.008805            </td><td>0.03029             </td><td>0.02488             </td><td>0.01448             </td><td>0.01486             </td><td>0.005412              </td><td>17.06            </td><td>28.14            </td><td>110.6             </td><td>897.0            </td><td>0.1654              </td><td>0.3682             </td><td>0.2678             </td><td>0.1556                </td><td>0.3196             </td><td>0.1151                   </td><td>nan  </td></tr>\n",
              "<tr><td>8      </td><td>844981.0          </td><td>M          </td><td>13.0              </td><td>21.82             </td><td>87.5              </td><td>519.8            </td><td>0.1273              </td><td>0.1932              </td><td>0.1859             </td><td>0.09353              </td><td>0.235              </td><td>0.07389                 </td><td>0.3063            </td><td>1.002             </td><td>2.406             </td><td>24.32           </td><td>0.005731            </td><td>0.03502             </td><td>0.03553             </td><td>0.01226             </td><td>0.02143             </td><td>0.003749              </td><td>15.49            </td><td>30.73            </td><td>106.2             </td><td>739.3            </td><td>0.1703              </td><td>0.5401             </td><td>0.539              </td><td>0.206                 </td><td>0.4378             </td><td>0.1072                   </td><td>nan  </td></tr>\n",
              "<tr><td>9      </td><td>84501001.0        </td><td>M          </td><td>12.46             </td><td>24.04             </td><td>83.97             </td><td>475.9            </td><td>0.1186              </td><td>0.2396              </td><td>0.2273             </td><td>0.08543              </td><td>0.203              </td><td>0.08243                 </td><td>0.2976            </td><td>1.599             </td><td>2.039             </td><td>23.94           </td><td>0.007149            </td><td>0.07217             </td><td>0.07743             </td><td>0.01432             </td><td>0.01789             </td><td>0.01008               </td><td>15.09            </td><td>40.68            </td><td>97.65             </td><td>711.4            </td><td>0.1853              </td><td>1.058              </td><td>1.105              </td><td>0.221                 </td><td>0.4366             </td><td>0.2075                   </td><td>nan  </td></tr>\n",
              "</tbody>\n",
              "</table>"
            ]
          },
          "metadata": {
            "tags": []
          }
        }
      ]
    },
    {
      "cell_type": "code",
      "metadata": {
        "id": "yPMGmsv9ono6"
      },
      "source": [
        "training,testing=x.split_frame(ratios=[0.8])"
      ],
      "execution_count": 73,
      "outputs": []
    },
    {
      "cell_type": "code",
      "metadata": {
        "id": "bQJS_HFOo2WY"
      },
      "source": [
        "features=['radius_mean', 'texture_mean', 'perimeter_mean', 'area_mean',\n",
        "       'smoothness_mean', 'compactness_mean', 'concavity_mean',\n",
        "       'concave points_mean', 'symmetry_mean', 'fractal_dimension_mean',\n",
        "       'radius_se', 'texture_se', 'perimeter_se', 'area_se', 'smoothness_se',\n",
        "       'compactness_se', 'concavity_se', 'concave points_se', 'symmetry_se',\n",
        "       'fractal_dimension_se', 'radius_worst', 'texture_worst',\n",
        "       'perimeter_worst', 'area_worst', 'smoothness_worst',\n",
        "       'compactness_worst', 'concavity_worst', 'concave points_worst',\n",
        "       'symmetry_worst', 'fractal_dimension_worst']\n",
        "output=\"diagnosis\""
      ],
      "execution_count": 74,
      "outputs": []
    },
    {
      "cell_type": "code",
      "metadata": {
        "id": "HGF5qG3mpn2r"
      },
      "source": [
        "automl=H2OAutoML(max_models=30,max_runtime_secs=500,seed=1)"
      ],
      "execution_count": 75,
      "outputs": []
    },
    {
      "cell_type": "code",
      "metadata": {
        "colab": {
          "base_uri": "https://localhost:8080/"
        },
        "id": "nlHgvOQ3piQZ",
        "outputId": "d2e9d4be-b14b-4b0e-c1ec-37968be6b2cf"
      },
      "source": [
        "automl.train(x=features,y=output,training_frame=training)"
      ],
      "execution_count": 76,
      "outputs": [
        {
          "output_type": "stream",
          "text": [
            "AutoML progress: |████████████████████████████████████████████████████████| 100%\n"
          ],
          "name": "stdout"
        }
      ]
    },
    {
      "cell_type": "code",
      "metadata": {
        "colab": {
          "base_uri": "https://localhost:8080/",
          "height": 255
        },
        "id": "nJwQ-HQsp7_B",
        "outputId": "84a94fe6-2980-4f29-912c-a316edfaea0b"
      },
      "source": [
        "leaderboard=automl.leaderboard\n",
        "leaderboard.head"
      ],
      "execution_count": 77,
      "outputs": [
        {
          "output_type": "display_data",
          "data": {
            "text/html": [
              "<table>\n",
              "<thead>\n",
              "<tr><th>model_id                                           </th><th style=\"text-align: right;\">     auc</th><th style=\"text-align: right;\">  logloss</th><th style=\"text-align: right;\">   aucpr</th><th style=\"text-align: right;\">  mean_per_class_error</th><th style=\"text-align: right;\">    rmse</th><th style=\"text-align: right;\">      mse</th></tr>\n",
              "</thead>\n",
              "<tbody>\n",
              "<tr><td>StackedEnsemble_BestOfFamily_AutoML_20210414_062203</td><td style=\"text-align: right;\">0.99745 </td><td style=\"text-align: right;\">0.0576975</td><td style=\"text-align: right;\">0.995947</td><td style=\"text-align: right;\">             0.0176462</td><td style=\"text-align: right;\">0.124585</td><td style=\"text-align: right;\">0.0155214</td></tr>\n",
              "<tr><td>StackedEnsemble_AllModels_AutoML_20210414_062203   </td><td style=\"text-align: right;\">0.996962</td><td style=\"text-align: right;\">0.1215   </td><td style=\"text-align: right;\">0.99516 </td><td style=\"text-align: right;\">             0.0191016</td><td style=\"text-align: right;\">0.158265</td><td style=\"text-align: right;\">0.0250478</td></tr>\n",
              "<tr><td>DeepLearning_grid__1_AutoML_20210414_062203_model_2</td><td style=\"text-align: right;\">0.99694 </td><td style=\"text-align: right;\">0.0858768</td><td style=\"text-align: right;\">0.995311</td><td style=\"text-align: right;\">             0.015957 </td><td style=\"text-align: right;\">0.124409</td><td style=\"text-align: right;\">0.0154777</td></tr>\n",
              "<tr><td>GBM_grid__1_AutoML_20210414_062203_model_4         </td><td style=\"text-align: right;\">0.99677 </td><td style=\"text-align: right;\">0.0745963</td><td style=\"text-align: right;\">0.994523</td><td style=\"text-align: right;\">             0.0227138</td><td style=\"text-align: right;\">0.149519</td><td style=\"text-align: right;\">0.022356 </td></tr>\n",
              "<tr><td>GBM_grid__1_AutoML_20210414_062203_model_5         </td><td style=\"text-align: right;\">0.996218</td><td style=\"text-align: right;\">0.078873 </td><td style=\"text-align: right;\">0.993616</td><td style=\"text-align: right;\">             0.0260921</td><td style=\"text-align: right;\">0.149857</td><td style=\"text-align: right;\">0.022457 </td></tr>\n",
              "<tr><td>GBM_4_AutoML_20210414_062203                       </td><td style=\"text-align: right;\">0.995857</td><td style=\"text-align: right;\">0.0854944</td><td style=\"text-align: right;\">0.992804</td><td style=\"text-align: right;\">             0.031914 </td><td style=\"text-align: right;\">0.158918</td><td style=\"text-align: right;\">0.025255 </td></tr>\n",
              "<tr><td>GBM_3_AutoML_20210414_062203                       </td><td style=\"text-align: right;\">0.995793</td><td style=\"text-align: right;\">0.0853316</td><td style=\"text-align: right;\">0.992689</td><td style=\"text-align: right;\">             0.0290031</td><td style=\"text-align: right;\">0.16076 </td><td style=\"text-align: right;\">0.0258437</td></tr>\n",
              "<tr><td>DeepLearning_grid__1_AutoML_20210414_062203_model_1</td><td style=\"text-align: right;\">0.995708</td><td style=\"text-align: right;\">0.125773 </td><td style=\"text-align: right;\">0.993324</td><td style=\"text-align: right;\">             0.0302248</td><td style=\"text-align: right;\">0.158498</td><td style=\"text-align: right;\">0.0251215</td></tr>\n",
              "<tr><td>GLM_1_AutoML_20210414_062203                       </td><td style=\"text-align: right;\">0.995665</td><td style=\"text-align: right;\">0.0748086</td><td style=\"text-align: right;\">0.994464</td><td style=\"text-align: right;\">             0.0193354</td><td style=\"text-align: right;\">0.137452</td><td style=\"text-align: right;\">0.018893 </td></tr>\n",
              "<tr><td>GBM_2_AutoML_20210414_062203                       </td><td style=\"text-align: right;\">0.995644</td><td style=\"text-align: right;\">0.0865033</td><td style=\"text-align: right;\">0.99266 </td><td style=\"text-align: right;\">             0.0306922</td><td style=\"text-align: right;\">0.159516</td><td style=\"text-align: right;\">0.0254453</td></tr>\n",
              "</tbody>\n",
              "</table>"
            ]
          },
          "metadata": {
            "tags": []
          }
        },
        {
          "output_type": "execute_result",
          "data": {
            "text/plain": [
              "<bound method H2OFrame.head of >"
            ]
          },
          "metadata": {
            "tags": []
          },
          "execution_count": 77
        }
      ]
    },
    {
      "cell_type": "code",
      "metadata": {
        "colab": {
          "base_uri": "https://localhost:8080/"
        },
        "id": "PmbHA5XgrTDh",
        "outputId": "c3d06c41-0d98-46d4-d4f1-64a1d1754eb6"
      },
      "source": [
        "preds=automl.predict(testing)"
      ],
      "execution_count": 78,
      "outputs": [
        {
          "output_type": "stream",
          "text": [
            "stackedensemble prediction progress: |████████████████████████████████████| 100%\n"
          ],
          "name": "stdout"
        }
      ]
    },
    {
      "cell_type": "code",
      "metadata": {
        "colab": {
          "base_uri": "https://localhost:8080/",
          "height": 255
        },
        "id": "y5La112GrcT9",
        "outputId": "5e4e68a9-15d2-4087-b18e-4aeb422887d1"
      },
      "source": [
        "print(preds)"
      ],
      "execution_count": 79,
      "outputs": [
        {
          "output_type": "display_data",
          "data": {
            "text/html": [
              "<table>\n",
              "<thead>\n",
              "<tr><th>predict  </th><th style=\"text-align: right;\">          B</th><th style=\"text-align: right;\">         M</th></tr>\n",
              "</thead>\n",
              "<tbody>\n",
              "<tr><td>M        </td><td style=\"text-align: right;\">0.00119204 </td><td style=\"text-align: right;\">0.998808  </td></tr>\n",
              "<tr><td>M        </td><td style=\"text-align: right;\">5.74022e-05</td><td style=\"text-align: right;\">0.999943  </td></tr>\n",
              "<tr><td>M        </td><td style=\"text-align: right;\">0.000256685</td><td style=\"text-align: right;\">0.999743  </td></tr>\n",
              "<tr><td>M        </td><td style=\"text-align: right;\">6.72636e-05</td><td style=\"text-align: right;\">0.999933  </td></tr>\n",
              "<tr><td>M        </td><td style=\"text-align: right;\">0.000327173</td><td style=\"text-align: right;\">0.999673  </td></tr>\n",
              "<tr><td>M        </td><td style=\"text-align: right;\">7.08011e-05</td><td style=\"text-align: right;\">0.999929  </td></tr>\n",
              "<tr><td>M        </td><td style=\"text-align: right;\">0.000297167</td><td style=\"text-align: right;\">0.999703  </td></tr>\n",
              "<tr><td>M        </td><td style=\"text-align: right;\">0.00209479 </td><td style=\"text-align: right;\">0.997905  </td></tr>\n",
              "<tr><td>B        </td><td style=\"text-align: right;\">0.997026   </td><td style=\"text-align: right;\">0.00297405</td></tr>\n",
              "<tr><td>M        </td><td style=\"text-align: right;\">0.00798405 </td><td style=\"text-align: right;\">0.992016  </td></tr>\n",
              "</tbody>\n",
              "</table>"
            ]
          },
          "metadata": {
            "tags": []
          }
        },
        {
          "output_type": "stream",
          "text": [
            "\n"
          ],
          "name": "stdout"
        }
      ]
    },
    {
      "cell_type": "code",
      "metadata": {
        "id": "XlyobciZDB5q"
      },
      "source": [
        "leader=automl.leader"
      ],
      "execution_count": 82,
      "outputs": []
    },
    {
      "cell_type": "code",
      "metadata": {
        "colab": {
          "base_uri": "https://localhost:8080/"
        },
        "id": "2dIjLn5sEwsk",
        "outputId": "8c7f2653-c832-4398-e648-29bc1e43d2ff"
      },
      "source": [
        "print(leader.model_performance(xval=True).auc())"
      ],
      "execution_count": 84,
      "outputs": [
        {
          "output_type": "stream",
          "text": [
            "0.9974502804691485\n"
          ],
          "name": "stdout"
        }
      ]
    }
  ]
}